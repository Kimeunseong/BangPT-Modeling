{
 "cells": [
  {
   "cell_type": "code",
   "execution_count": 41,
   "id": "58b7df22",
   "metadata": {},
   "outputs": [
    {
     "name": "stdout",
     "output_type": "stream",
     "text": [
      "1.13.1\n"
     ]
    }
   ],
   "source": [
    "import torch\n",
    "import pandas as pd\n",
    "import numpy as np\n",
    "import cv2\n",
    "import matplotlib.pyplot as plt\n",
    "import matplotlib.animation as ani\n",
    "\n",
    "print(torch.__version__)"
   ]
  },
  {
   "cell_type": "code",
   "execution_count": 25,
   "id": "a342c062",
   "metadata": {},
   "outputs": [
    {
     "name": "stdout",
     "output_type": "stream",
     "text": [
      "input1\n",
      "input2\n",
      "input3\n",
      "out\n"
     ]
    }
   ],
   "source": [
    "data1 = np.load('C:/Users/Playdata/2D-Motion-Retargeting/outputs/full-demo/results.npz')\n",
    "for i in data1:\n",
    "    print(i)"
   ]
  },
  {
   "cell_type": "code",
   "execution_count": 26,
   "id": "9481d42b",
   "metadata": {},
   "outputs": [
    {
     "data": {
      "text/plain": [
       "(15, 2, 120)"
      ]
     },
     "execution_count": 26,
     "metadata": {},
     "output_type": "execute_result"
    }
   ],
   "source": [
    "data1['out'].shape"
   ]
  },
  {
   "cell_type": "code",
   "execution_count": 58,
   "id": "6e85341b",
   "metadata": {},
   "outputs": [
    {
     "name": "stdout",
     "output_type": "stream",
     "text": [
      "input1\n",
      "input2\n",
      "out12\n",
      "out21\n"
     ]
    }
   ],
   "source": [
    "data2 = np.load('C:/Users/Playdata/2D-Motion-Retargeting/outputs/skeleton-demo/results.npz')\n",
    "for i in data2:\n",
    "    print(i)"
   ]
  },
  {
   "cell_type": "code",
   "execution_count": 21,
   "id": "8d0930f2",
   "metadata": {},
   "outputs": [
    {
     "name": "stdout",
     "output_type": "stream",
     "text": [
      "input1\n",
      "input2\n",
      "out12\n",
      "out21\n"
     ]
    }
   ],
   "source": [
    "data3 = np.load('C:/Users/Playdata/2D-Motion-Retargeting/outputs/view-demo/results.npz')\n",
    "for i in data3:\n",
    "    print(i)"
   ]
  },
  {
   "cell_type": "code",
   "execution_count": 24,
   "id": "06be7e37",
   "metadata": {},
   "outputs": [
    {
     "data": {
      "text/plain": [
       "(15, 2, 120)"
      ]
     },
     "execution_count": 24,
     "metadata": {},
     "output_type": "execute_result"
    }
   ],
   "source": [
    "data3['out12'].shape"
   ]
  },
  {
   "cell_type": "code",
   "execution_count": 30,
   "id": "1543925f",
   "metadata": {},
   "outputs": [],
   "source": [
    "sample = data1['out'][:, :, 0]"
   ]
  },
  {
   "cell_type": "code",
   "execution_count": 34,
   "id": "9623ac0a",
   "metadata": {},
   "outputs": [
    {
     "data": {
      "text/html": [
       "<div>\n",
       "<style scoped>\n",
       "    .dataframe tbody tr th:only-of-type {\n",
       "        vertical-align: middle;\n",
       "    }\n",
       "\n",
       "    .dataframe tbody tr th {\n",
       "        vertical-align: top;\n",
       "    }\n",
       "\n",
       "    .dataframe thead th {\n",
       "        text-align: right;\n",
       "    }\n",
       "</style>\n",
       "<table border=\"1\" class=\"dataframe\">\n",
       "  <thead>\n",
       "    <tr style=\"text-align: right;\">\n",
       "      <th></th>\n",
       "      <th>0</th>\n",
       "      <th>1</th>\n",
       "    </tr>\n",
       "  </thead>\n",
       "  <tbody>\n",
       "    <tr>\n",
       "      <th>0</th>\n",
       "      <td>250.346148</td>\n",
       "      <td>150.895907</td>\n",
       "    </tr>\n",
       "    <tr>\n",
       "      <th>1</th>\n",
       "      <td>254.440146</td>\n",
       "      <td>184.156412</td>\n",
       "    </tr>\n",
       "    <tr>\n",
       "      <th>2</th>\n",
       "      <td>230.526833</td>\n",
       "      <td>185.143246</td>\n",
       "    </tr>\n",
       "    <tr>\n",
       "      <th>3</th>\n",
       "      <td>225.582890</td>\n",
       "      <td>216.638337</td>\n",
       "    </tr>\n",
       "    <tr>\n",
       "      <th>4</th>\n",
       "      <td>219.843705</td>\n",
       "      <td>249.390726</td>\n",
       "    </tr>\n",
       "    <tr>\n",
       "      <th>5</th>\n",
       "      <td>278.321042</td>\n",
       "      <td>183.105438</td>\n",
       "    </tr>\n",
       "    <tr>\n",
       "      <th>6</th>\n",
       "      <td>287.335458</td>\n",
       "      <td>208.572130</td>\n",
       "    </tr>\n",
       "    <tr>\n",
       "      <th>7</th>\n",
       "      <td>282.636776</td>\n",
       "      <td>229.376030</td>\n",
       "    </tr>\n",
       "    <tr>\n",
       "      <th>8</th>\n",
       "      <td>256.169775</td>\n",
       "      <td>256.070462</td>\n",
       "    </tr>\n",
       "    <tr>\n",
       "      <th>9</th>\n",
       "      <td>243.874524</td>\n",
       "      <td>256.505959</td>\n",
       "    </tr>\n",
       "    <tr>\n",
       "      <th>10</th>\n",
       "      <td>234.274557</td>\n",
       "      <td>289.888529</td>\n",
       "    </tr>\n",
       "    <tr>\n",
       "      <th>11</th>\n",
       "      <td>236.690832</td>\n",
       "      <td>321.543362</td>\n",
       "    </tr>\n",
       "    <tr>\n",
       "      <th>12</th>\n",
       "      <td>268.464955</td>\n",
       "      <td>255.633666</td>\n",
       "    </tr>\n",
       "    <tr>\n",
       "      <th>13</th>\n",
       "      <td>267.445420</td>\n",
       "      <td>292.427425</td>\n",
       "    </tr>\n",
       "    <tr>\n",
       "      <th>14</th>\n",
       "      <td>271.397335</td>\n",
       "      <td>321.425760</td>\n",
       "    </tr>\n",
       "  </tbody>\n",
       "</table>\n",
       "</div>"
      ],
      "text/plain": [
       "             0           1\n",
       "0   250.346148  150.895907\n",
       "1   254.440146  184.156412\n",
       "2   230.526833  185.143246\n",
       "3   225.582890  216.638337\n",
       "4   219.843705  249.390726\n",
       "5   278.321042  183.105438\n",
       "6   287.335458  208.572130\n",
       "7   282.636776  229.376030\n",
       "8   256.169775  256.070462\n",
       "9   243.874524  256.505959\n",
       "10  234.274557  289.888529\n",
       "11  236.690832  321.543362\n",
       "12  268.464955  255.633666\n",
       "13  267.445420  292.427425\n",
       "14  271.397335  321.425760"
      ]
     },
     "execution_count": 34,
     "metadata": {},
     "output_type": "execute_result"
    }
   ],
   "source": [
    "df1 = pd.DataFrame(sample)\n",
    "df1"
   ]
  },
  {
   "cell_type": "code",
   "execution_count": 40,
   "id": "b1769ca5",
   "metadata": {},
   "outputs": [],
   "source": [
    "df1.to_csv('./2dMotion/df1.csv')"
   ]
  },
  {
   "cell_type": "code",
   "execution_count": 45,
   "id": "5416d35e",
   "metadata": {},
   "outputs": [],
   "source": [
    "points = {}\n",
    "points['x'] = df1[0]\n",
    "points['y'] = df1[1]"
   ]
  },
  {
   "cell_type": "code",
   "execution_count": 47,
   "id": "595bafc2",
   "metadata": {},
   "outputs": [],
   "source": [
    "df_points = pd.DataFrame(points)"
   ]
  },
  {
   "cell_type": "code",
   "execution_count": 48,
   "id": "107084cd",
   "metadata": {},
   "outputs": [
    {
     "data": {
      "text/html": [
       "<div>\n",
       "<style scoped>\n",
       "    .dataframe tbody tr th:only-of-type {\n",
       "        vertical-align: middle;\n",
       "    }\n",
       "\n",
       "    .dataframe tbody tr th {\n",
       "        vertical-align: top;\n",
       "    }\n",
       "\n",
       "    .dataframe thead th {\n",
       "        text-align: right;\n",
       "    }\n",
       "</style>\n",
       "<table border=\"1\" class=\"dataframe\">\n",
       "  <thead>\n",
       "    <tr style=\"text-align: right;\">\n",
       "      <th></th>\n",
       "      <th>x</th>\n",
       "      <th>y</th>\n",
       "    </tr>\n",
       "  </thead>\n",
       "  <tbody>\n",
       "    <tr>\n",
       "      <th>0</th>\n",
       "      <td>250.346148</td>\n",
       "      <td>150.895907</td>\n",
       "    </tr>\n",
       "    <tr>\n",
       "      <th>1</th>\n",
       "      <td>254.440146</td>\n",
       "      <td>184.156412</td>\n",
       "    </tr>\n",
       "    <tr>\n",
       "      <th>2</th>\n",
       "      <td>230.526833</td>\n",
       "      <td>185.143246</td>\n",
       "    </tr>\n",
       "    <tr>\n",
       "      <th>3</th>\n",
       "      <td>225.582890</td>\n",
       "      <td>216.638337</td>\n",
       "    </tr>\n",
       "    <tr>\n",
       "      <th>4</th>\n",
       "      <td>219.843705</td>\n",
       "      <td>249.390726</td>\n",
       "    </tr>\n",
       "    <tr>\n",
       "      <th>5</th>\n",
       "      <td>278.321042</td>\n",
       "      <td>183.105438</td>\n",
       "    </tr>\n",
       "    <tr>\n",
       "      <th>6</th>\n",
       "      <td>287.335458</td>\n",
       "      <td>208.572130</td>\n",
       "    </tr>\n",
       "    <tr>\n",
       "      <th>7</th>\n",
       "      <td>282.636776</td>\n",
       "      <td>229.376030</td>\n",
       "    </tr>\n",
       "    <tr>\n",
       "      <th>8</th>\n",
       "      <td>256.169775</td>\n",
       "      <td>256.070462</td>\n",
       "    </tr>\n",
       "    <tr>\n",
       "      <th>9</th>\n",
       "      <td>243.874524</td>\n",
       "      <td>256.505959</td>\n",
       "    </tr>\n",
       "    <tr>\n",
       "      <th>10</th>\n",
       "      <td>234.274557</td>\n",
       "      <td>289.888529</td>\n",
       "    </tr>\n",
       "    <tr>\n",
       "      <th>11</th>\n",
       "      <td>236.690832</td>\n",
       "      <td>321.543362</td>\n",
       "    </tr>\n",
       "    <tr>\n",
       "      <th>12</th>\n",
       "      <td>268.464955</td>\n",
       "      <td>255.633666</td>\n",
       "    </tr>\n",
       "    <tr>\n",
       "      <th>13</th>\n",
       "      <td>267.445420</td>\n",
       "      <td>292.427425</td>\n",
       "    </tr>\n",
       "    <tr>\n",
       "      <th>14</th>\n",
       "      <td>271.397335</td>\n",
       "      <td>321.425760</td>\n",
       "    </tr>\n",
       "  </tbody>\n",
       "</table>\n",
       "</div>"
      ],
      "text/plain": [
       "             x           y\n",
       "0   250.346148  150.895907\n",
       "1   254.440146  184.156412\n",
       "2   230.526833  185.143246\n",
       "3   225.582890  216.638337\n",
       "4   219.843705  249.390726\n",
       "5   278.321042  183.105438\n",
       "6   287.335458  208.572130\n",
       "7   282.636776  229.376030\n",
       "8   256.169775  256.070462\n",
       "9   243.874524  256.505959\n",
       "10  234.274557  289.888529\n",
       "11  236.690832  321.543362\n",
       "12  268.464955  255.633666\n",
       "13  267.445420  292.427425\n",
       "14  271.397335  321.425760"
      ]
     },
     "execution_count": 48,
     "metadata": {},
     "output_type": "execute_result"
    }
   ],
   "source": [
    "df_points"
   ]
  },
  {
   "cell_type": "code",
   "execution_count": 55,
   "id": "73849064",
   "metadata": {},
   "outputs": [
    {
     "data": {
      "text/plain": [
       "(250.3461479423898, 150.89590652798358)"
      ]
     },
     "execution_count": 55,
     "metadata": {},
     "output_type": "execute_result"
    }
   ],
   "source": [
    "df_points['x'][0], df_points['y'][0]"
   ]
  },
  {
   "cell_type": "code",
   "execution_count": 57,
   "id": "5e1d5d95",
   "metadata": {},
   "outputs": [
    {
     "data": {
      "text/plain": [
       "<matplotlib.image.AxesImage at 0x287e349ff10>"
      ]
     },
     "execution_count": 57,
     "metadata": {},
     "output_type": "execute_result"
    },
    {
     "data": {
      "image/png": "[encoded data removed]",
      "text/plain": [
       "<Figure size 432x288 with 1 Axes>"
      ]
     },
     "metadata": {
      "needs_background": "light"
     },
     "output_type": "display_data"
    }
   ],
   "source": [
    "img = np.zeros(shape=(500, 500, 3), dtype=np.uint8) + 255\n",
    "\n",
    "for i in range(len(df1)):\n",
    "    cx = int(df1[0][i])\n",
    "    cy = int(df1[1][i])\n",
    "    cv2.circle(img, (cx, cy), radius=3, color=(0, 0, 255), thickness=4)  \n",
    "vxcv(crcolthick)"
   ]
  },
  {
   "cell_type": "code",
   "execution_count": 62,
   "id": "4584e9fa",
   "metadata": {},
   "outputs": [
    {
     "data": {
      "text/html": [
       "<div>\n",
       "<style scoped>\n",
       "    .dataframe tbody tr th:only-of-type {\n",
       "        vertical-align: middle;\n",
       "    }\n",
       "\n",
       "    .dataframe tbody tr th {\n",
       "        vertical-align: top;\n",
       "    }\n",
       "\n",
       "    .dataframe thead th {\n",
       "        text-align: right;\n",
       "    }\n",
       "</style>\n",
       "<table border=\"1\" class=\"dataframe\">\n",
       "  <thead>\n",
       "    <tr style=\"text-align: right;\">\n",
       "      <th></th>\n",
       "      <th>0</th>\n",
       "      <th>1</th>\n",
       "    </tr>\n",
       "  </thead>\n",
       "  <tbody>\n",
       "    <tr>\n",
       "      <th>0</th>\n",
       "      <td>245.956771</td>\n",
       "      <td>147.654335</td>\n",
       "    </tr>\n",
       "    <tr>\n",
       "      <th>1</th>\n",
       "      <td>249.258298</td>\n",
       "      <td>180.331331</td>\n",
       "    </tr>\n",
       "    <tr>\n",
       "      <th>2</th>\n",
       "      <td>222.747692</td>\n",
       "      <td>183.125885</td>\n",
       "    </tr>\n",
       "    <tr>\n",
       "      <th>3</th>\n",
       "      <td>218.259132</td>\n",
       "      <td>218.321854</td>\n",
       "    </tr>\n",
       "    <tr>\n",
       "      <th>4</th>\n",
       "      <td>218.443691</td>\n",
       "      <td>246.683835</td>\n",
       "    </tr>\n",
       "    <tr>\n",
       "      <th>5</th>\n",
       "      <td>275.779200</td>\n",
       "      <td>177.528268</td>\n",
       "    </tr>\n",
       "    <tr>\n",
       "      <th>6</th>\n",
       "      <td>292.243514</td>\n",
       "      <td>206.349315</td>\n",
       "    </tr>\n",
       "    <tr>\n",
       "      <th>7</th>\n",
       "      <td>295.025748</td>\n",
       "      <td>228.330887</td>\n",
       "    </tr>\n",
       "    <tr>\n",
       "      <th>8</th>\n",
       "      <td>256.058041</td>\n",
       "      <td>256.047144</td>\n",
       "    </tr>\n",
       "    <tr>\n",
       "      <th>9</th>\n",
       "      <td>240.906964</td>\n",
       "      <td>256.929478</td>\n",
       "    </tr>\n",
       "    <tr>\n",
       "      <th>10</th>\n",
       "      <td>236.151448</td>\n",
       "      <td>294.832456</td>\n",
       "    </tr>\n",
       "    <tr>\n",
       "      <th>11</th>\n",
       "      <td>235.944318</td>\n",
       "      <td>328.048438</td>\n",
       "    </tr>\n",
       "    <tr>\n",
       "      <th>12</th>\n",
       "      <td>271.208667</td>\n",
       "      <td>255.164776</td>\n",
       "    </tr>\n",
       "    <tr>\n",
       "      <th>13</th>\n",
       "      <td>274.881603</td>\n",
       "      <td>292.290545</td>\n",
       "    </tr>\n",
       "    <tr>\n",
       "      <th>14</th>\n",
       "      <td>272.948544</td>\n",
       "      <td>328.010482</td>\n",
       "    </tr>\n",
       "  </tbody>\n",
       "</table>\n",
       "</div>"
      ],
      "text/plain": [
       "             0           1\n",
       "0   245.956771  147.654335\n",
       "1   249.258298  180.331331\n",
       "2   222.747692  183.125885\n",
       "3   218.259132  218.321854\n",
       "4   218.443691  246.683835\n",
       "5   275.779200  177.528268\n",
       "6   292.243514  206.349315\n",
       "7   295.025748  228.330887\n",
       "8   256.058041  256.047144\n",
       "9   240.906964  256.929478\n",
       "10  236.151448  294.832456\n",
       "11  235.944318  328.048438\n",
       "12  271.208667  255.164776\n",
       "13  274.881603  292.290545\n",
       "14  272.948544  328.010482"
      ]
     },
     "execution_count": 62,
     "metadata": {},
     "output_type": "execute_result"
    }
   ],
   "source": [
    "sample = data2['out12'][:, :, 0]\n",
    "df2 = pd.DataFrame(sample)\n",
    "df2"
   ]
  },
  {
   "cell_type": "code",
   "execution_count": 63,
   "id": "307b8f57",
   "metadata": {},
   "outputs": [
    {
     "data": {
      "text/plain": [
       "<matplotlib.image.AxesImage at 0x287deedb5b0>"
      ]
     },
     "execution_count": 63,
     "metadata": {},
     "output_type": "execute_result"
    },
    {
     "data": {
      "image/png": "[encoded data removed]",
      "text/plain": [
       "<Figure size 432x288 with 1 Axes>"
      ]
     },
     "metadata": {
      "needs_background": "light"
     },
     "output_type": "display_data"
    }
   ],
   "source": [
    "img = np.zeros(shape=(500, 500, 3), dtype=np.uint8) + 255\n",
    "\n",
    "for i in range(len(df2)):\n",
    "    cx = int(df2[0][i])\n",
    "    cy = int(df2[1][i])\n",
    "    cv2.circle(img, (cx, cy), radius=3, color=(0, 0, 255), thickness=4)  \n",
    "plt.imshow(img)"
   ]
  },
  {
   "cell_type": "code",
   "execution_count": 67,
   "id": "2fa02b23",
   "metadata": {},
   "outputs": [
    {
     "data": {
      "text/plain": [
       "<matplotlib.image.AxesImage at 0x287e3c2a070>"
      ]
     },
     "execution_count": 67,
     "metadata": {},
     "output_type": "execute_result"
    },
    {
     "data": {
      "image/png": "[encoded data removed]",
      "text/plain": [
       "<Figure size 432x288 with 1 Axes>"
      ]
     },
     "metadata": {
      "needs_background": "light"
     },
     "output_type": "display_data"
    }
   ],
   "source": [
    "sample = data3['out12'][:, :, 0]\n",
    "df3 = pd.DataFrame(sample)\n",
    "\n",
    "img = np.zeros(shape=(500, 500, 3), dtype=np.uint8) + 255\n",
    "for i in range(len(df3)):\n",
    "    cx = int(df3[0][i])\n",
    "    cy = int(df3[1][i])\n",
    "    if i == 0:\n",
    "        cv2.circle(img, (cx, cy), radius=3, color=(0, 0, 255), thickness=30) \n",
    "    else:\n",
    "        cv2.circle(img, (cx, cy), radius=3, color=(0, 0, 255), thickness=5)  \n",
    "plt.imshow(img)"
   ]
  },
  {
   "cell_type": "code",
   "execution_count": null,
   "id": "9f4ce8d8",
   "metadata": {},
   "outputs": [],
   "source": [
    "!python predict.py -n full --model_path ./model/pretrained_full.pth -v1 ./examples/tall_man -v2 ./examples/small_man -v3 ./examples/workout_march -h1 720 -w1 720 -h2 720 -w2 720 -h3 720 -w3 720 -o ./outputs/full-demo-test --max_length 120"
   ]
  }
 ],
 "metadata": {
  "kernelspec": {
   "display_name": "Python 3 (ipykernel)",
   "language": "python",
   "name": "python3"
  },
  "language_info": {
   "codemirror_mode": {
    "name": "ipython",
    "version": 3
   },
   "file_extension": ".py",
   "mimetype": "text/x-python",
   "name": "python",
   "nbconvert_exporter": "python",
   "pygments_lexer": "ipython3",
   "version": "3.8.16"
  }
 },
 "nbformat": 4,
 "nbformat_minor": 5
}
