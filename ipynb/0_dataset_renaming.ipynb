{
 "cells": [
  {
   "cell_type": "markdown",
   "id": "c543f60b",
   "metadata": {},
   "source": [
    "# 2023 - 05 - 11\n",
    "\n",
    "## 파일 이름 리네이밍\n",
    "- 파일 이름은 000 ~ 999 까지로 정의함"
   ]
  },
  {
   "cell_type": "code",
   "execution_count": 5,
   "id": "ecef5860",
   "metadata": {
    "scrolled": true
   },
   "outputs": [
    {
     "name": "stdout",
     "output_type": "stream",
     "text": [
      "count : 39\n",
      "start = 84, end = 123\n",
      "./data/total_0513/2_2_images/084/\n",
      "./data/total_0513/2_2_images/085/\n",
      "./data/total_0513/2_2_images/086/\n",
      "./data/total_0513/2_2_images/087/\n",
      "./data/total_0513/2_2_images/088/\n",
      "./data/total_0513/2_2_images/089/\n",
      "./data/total_0513/2_2_images/090/\n",
      "./data/total_0513/2_2_images/091/\n",
      "./data/total_0513/2_2_images/092/\n",
      "./data/total_0513/2_2_images/093/\n",
      "./data/total_0513/2_2_images/094/\n",
      "./data/total_0513/2_2_images/095/\n",
      "./data/total_0513/2_2_images/096/\n",
      "./data/total_0513/2_2_images/097/\n",
      "./data/total_0513/2_2_images/098/\n",
      "./data/total_0513/2_2_images/099/\n",
      "./data/total_0513/2_2_images/100/\n",
      "./data/total_0513/2_2_images/101/\n",
      "./data/total_0513/2_2_images/102/\n",
      "./data/total_0513/2_2_images/103/\n",
      "./data/total_0513/2_2_images/104/\n",
      "./data/total_0513/2_2_images/105/\n",
      "./data/total_0513/2_2_images/106/\n",
      "./data/total_0513/2_2_images/107/\n",
      "./data/total_0513/2_2_images/108/\n",
      "./data/total_0513/2_2_images/109/\n",
      "./data/total_0513/2_2_images/110/\n",
      "./data/total_0513/2_2_images/111/\n",
      "./data/total_0513/2_2_images/112/\n",
      "./data/total_0513/2_2_images/113/\n",
      "./data/total_0513/2_2_images/114/\n",
      "./data/total_0513/2_2_images/115/\n",
      "./data/total_0513/2_2_images/116/\n",
      "./data/total_0513/2_2_images/117/\n",
      "./data/total_0513/2_2_images/118/\n",
      "./data/total_0513/2_2_images/119/\n",
      "./data/total_0513/2_2_images/120/\n",
      "./data/total_0513/2_2_images/121/\n",
      "./data/total_0513/2_2_images/122/\n"
     ]
    }
   ],
   "source": [
    "import os\n",
    "\n",
    "path1 = './data/total_0513/2_2_images/'\n",
    "file_list = []\n",
    "\n",
    "for i in sorted(os.listdir(path1)):\n",
    "    if i == '.DS_Store':\n",
    "        pass\n",
    "    else:\n",
    "        file_list.append(i)\n",
    "\n",
    "print(f'count : {len(file_list)}')\n",
    "file_list\n",
    "\n",
    "start = 84 # 넘버링 시작 숫자\n",
    "end = start + len(file_list)\n",
    "print(f'start = {start}, end = {end}')\n",
    "\n",
    "for i in range(start, end):\n",
    "    old_name = path1 + file_list[i-start]\n",
    "#     print(old_name)\n",
    "    if i < 10:\n",
    "        new_name = path1 + f'00{i}/'\n",
    "    elif i < 100:\n",
    "        new_name = path1 + f'0{i}/'\n",
    "    else:\n",
    "        new_name = path1 + f'{i}/'\n",
    "        \n",
    "    print(new_name)\n",
    "    os.rename(old_name, new_name)"
   ]
  },
  {
   "cell_type": "code",
   "execution_count": null,
   "id": "18a1dbae",
   "metadata": {},
   "outputs": [],
   "source": []
  }
 ],
 "metadata": {
  "kernelspec": {
   "display_name": "Python 3 (ipykernel)",
   "language": "python",
   "name": "python3"
  },
  "language_info": {
   "codemirror_mode": {
    "name": "ipython",
    "version": 3
   },
   "file_extension": ".py",
   "mimetype": "text/x-python",
   "name": "python",
   "nbconvert_exporter": "python",
   "pygments_lexer": "ipython3",
   "version": "3.10.10"
  }
 },
 "nbformat": 4,
 "nbformat_minor": 5
}
