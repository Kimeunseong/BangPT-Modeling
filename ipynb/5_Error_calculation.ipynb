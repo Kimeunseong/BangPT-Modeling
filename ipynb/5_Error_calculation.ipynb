{
 "cells": [
  {
   "cell_type": "markdown",
   "id": "11322daf",
   "metadata": {},
   "source": [
    "# 2023-05-15\n",
    "\n",
    "## 모델 성능 평가 & 오차 계산"
   ]
  },
  {
   "cell_type": "code",
   "execution_count": 5,
   "id": "5e214e26",
   "metadata": {},
   "outputs": [],
   "source": [
    "import tensorflow as tf\n",
    "import numpy as np"
   ]
  },
  {
   "cell_type": "code",
   "execution_count": 3,
   "id": "2fc98654",
   "metadata": {},
   "outputs": [],
   "source": [
    "# mse 계산\n",
    "\n",
    "def mse_loss(y_true, y_pred):\n",
    "    err = y_true - y_pred\n",
    "    loss = tf.math.reduce_mean(tf.math.square(err))\n",
    "\n",
    "    return loss"
   ]
  },
  {
   "cell_type": "code",
   "execution_count": 4,
   "id": "d247a544",
   "metadata": {},
   "outputs": [],
   "source": [
    "# rmse 계산\n",
    "\n",
    "def rmse_loss(y_true, y_pred):\n",
    "    err = y_true - y_pred\n",
    "    loss = tf.math.sqrt(tf.math.reduce_mean(tf.math.square(err)))\n",
    "\n",
    "    return loss"
   ]
  },
  {
   "cell_type": "code",
   "execution_count": 10,
   "id": "1468b6f2",
   "metadata": {},
   "outputs": [
    {
     "name": "stdout",
     "output_type": "stream",
     "text": [
      "mse : tf.Tensor(3.1666666666666665, shape=(), dtype=float64)\n",
      "rmse : tf.Tensor(1.7795130420052185, shape=(), dtype=float64)\n"
     ]
    }
   ],
   "source": [
    "test_true = np.array([-1.0, 0.0, 1.0, 2.0, 3.0, 4.0], dtype=float)\n",
    "test_pred = np.array([-3.0, -1.0, 1.0, 3.0, 5.0, 7.0], dtype=float)\n",
    "\n",
    "print('mse :', mse_loss(test_true, test_pred))\n",
    "print('rmse :', rmse_loss(test_true, test_pred))"
   ]
  },
  {
   "cell_type": "code",
   "execution_count": 25,
   "id": "8bb5c3a5",
   "metadata": {},
   "outputs": [
    {
     "name": "stdout",
     "output_type": "stream",
     "text": [
      "tf.Tensor(1.125, shape=(), dtype=float64)\n",
      "tf.Tensor(1.125, shape=(), dtype=float64)\n"
     ]
    }
   ],
   "source": [
    "a_true = np.array([1.5, 1.5], dtype=np.float64) # (x, y)\n",
    "a_pred1 = np.array([1.5, 3], dtype=np.float64)\n",
    "a_pred2 = np.array([1.5, 0], dtype=np.float64)\n",
    "\n",
    "print(mse_loss(a_true, a_pred1))\n",
    "print(mse_loss(a_true, a_pred2))"
   ]
  },
  {
   "cell_type": "code",
   "execution_count": null,
   "id": "29b4ac9e",
   "metadata": {},
   "outputs": [],
   "source": []
  }
 ],
 "metadata": {
  "kernelspec": {
   "display_name": "Python 3 (ipykernel)",
   "language": "python",
   "name": "python3"
  },
  "language_info": {
   "codemirror_mode": {
    "name": "ipython",
    "version": 3
   },
   "file_extension": ".py",
   "mimetype": "text/x-python",
   "name": "python",
   "nbconvert_exporter": "python",
   "pygments_lexer": "ipython3",
   "version": "3.10.10"
  }
 },
 "nbformat": 4,
 "nbformat_minor": 5
}
