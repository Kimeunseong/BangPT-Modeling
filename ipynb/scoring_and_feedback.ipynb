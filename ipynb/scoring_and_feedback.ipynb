{
 "cells": [
  {
   "cell_type": "markdown",
   "id": "0a589725",
   "metadata": {},
   "source": [
    "# 2023-05-22\n",
    "\n",
    "## 점수 랭킹 및 피드백 기능 구현"
   ]
  },
  {
   "cell_type": "code",
   "execution_count": 15,
   "id": "46350e74",
   "metadata": {},
   "outputs": [],
   "source": [
    "# 총 5개의 등급으로 나누기"
   ]
  },
  {
   "cell_type": "code",
   "execution_count": 23,
   "id": "09e9f212",
   "metadata": {},
   "outputs": [
    {
     "name": "stdout",
     "output_type": "stream",
     "text": [
      "eunbi_loss avg = 33.25126327740449\n",
      "es_loss avg = 10.240122908156291\n",
      "dasol_loss avg = 33.015744360987014\n"
     ]
    }
   ],
   "source": [
    "eunbi_loss = [0.002810457367870134, 0.003266279492103828, 0.00414068777905038, 0.003821817170403501, 0.002586389829274401]\n",
    "es_loss = [0.000861725359677880, 0.000712028704872278, 0.001091081371595408, 0.001611983767425861, 0.000843242250506719]\n",
    "dasol_loss = [0.001671776931575645, 0.00298760962773411, 0.003954986799893151, 0.004592573688711216, 0.003300925132579390]\n",
    "\n",
    "avg1 = sum(eunbi_loss) / 5\n",
    "print(f'eunbi_loss avg = {avg1 * 10000}')\n",
    "\n",
    "avg2 = sum(es_loss) / 5\n",
    "print(f'es_loss avg = {avg2 * 10000}')\n",
    "\n",
    "avg3 = sum(dasol_loss) / 5\n",
    "print(f'dasol_loss avg = {avg3 * 10000}')"
   ]
  },
  {
   "cell_type": "code",
   "execution_count": 32,
   "id": "84399b49",
   "metadata": {},
   "outputs": [
    {
     "name": "stdout",
     "output_type": "stream",
     "text": [
      "91.3827464032212\n",
      "92.87971295127721\n",
      "89.08918628404592\n",
      "83.8801623257414\n",
      "91.5675774949328\n",
      "\n",
      "total score = 89.0\n",
      "멋져요! 운동 자세가 상당히 훌륭합니다. 자세의 안정성과 균형을 유지하며, 기본적인 운동 동작을 정확하게 수행하고 있습니다.\n"
     ]
    }
   ],
   "source": [
    "es_loss = [0.000861725359677880, \n",
    "           0.000712028704872278, \n",
    "           0.001091081371595408, \n",
    "           0.001611983767425861, \n",
    "           0.000843242250506719]\n",
    "\n",
    "es_score = []\n",
    "\n",
    "for i in es_loss:\n",
    "    print(100 - i*10000)\n",
    "    es_score.append(100 - i*10000)\n",
    "    \n",
    "\n",
    "print(f'\\ntotal score = {sum(es_score)//5}')\n",
    "print(oneLineFeedback(sum(es_score)//5))"
   ]
  },
  {
   "cell_type": "code",
   "execution_count": 33,
   "id": "c5e2fd8b",
   "metadata": {},
   "outputs": [
    {
     "name": "stdout",
     "output_type": "stream",
     "text": [
      "71.89542632129866\n",
      "67.33720507896172\n",
      "58.593122209496194\n",
      "61.78182829596499\n",
      "74.13610170725599\n",
      "\n",
      "total score = 66.0\n",
      "잘 하셨어요! 운동 자세가 괜찮습니다. 기본적인 운동 동작을 어느 정도 정확하게 수행하고 있으며, 자세의 안정성도 일정 수준을 유지하고 있습니다. 조금 더 정확한 동작을 위해 세심한 주의가 필요합니다.\n"
     ]
    }
   ],
   "source": [
    "eunbi_loss = [0.002810457367870134, \n",
    "              0.003266279492103828, \n",
    "              0.00414068777905038, \n",
    "              0.003821817170403501, \n",
    "              0.002586389829274401]\n",
    "eb_score = []\n",
    "\n",
    "for i in eunbi_loss:\n",
    "    print(100 - i*10000)\n",
    "    eb_score.append(100 - i*10000)\n",
    "    \n",
    "print(f'\\ntotal score = {sum(eb_score)//5}')\n",
    "print(oneLineFeedback(sum(eb_score)//5))"
   ]
  },
  {
   "cell_type": "code",
   "execution_count": 34,
   "id": "1e706f40",
   "metadata": {},
   "outputs": [
    {
     "name": "stdout",
     "output_type": "stream",
     "text": [
      "83.28223068424356\n",
      "70.1239037226589\n",
      "60.450132001068496\n",
      "54.07426311288784\n",
      "66.9907486742061\n",
      "\n",
      "total score = 66.0\n",
      "잘 하셨어요! 운동 자세가 괜찮습니다. 기본적인 운동 동작을 어느 정도 정확하게 수행하고 있으며, 자세의 안정성도 일정 수준을 유지하고 있습니다. 조금 더 정확한 동작을 위해 세심한 주의가 필요합니다.\n"
     ]
    }
   ],
   "source": [
    "dasol_loss = [0.001671776931575645, \n",
    "              0.00298760962773411, \n",
    "              0.003954986799893151, \n",
    "              0.004592573688711216, \n",
    "              0.003300925132579390]\n",
    "dasol_score = []\n",
    "\n",
    "for i in dasol_loss:\n",
    "    print(100 - i*10000)\n",
    "    dasol_score.append(100 - i*10000)\n",
    "    \n",
    "print(f'\\ntotal score = {sum(dasol_score)//5}')\n",
    "print(oneLineFeedback(sum(dasol_score)//5))"
   ]
  },
  {
   "cell_type": "code",
   "execution_count": 25,
   "id": "467058ca",
   "metadata": {},
   "outputs": [],
   "source": [
    "def oneLineFeedback(tot_score):\n",
    "    if 90 <= tot_score:\n",
    "        return '대단해요! 거의 트레이너 수준입니다! 운동 자세가 매우 정확하고 균형도 잘 잡혀 있습니다. 전문가 수준의 자세를 유지하고 있으며, 안정적이고 효과적인 운동을 하고 있습니다.'\n",
    "    elif 75 <= tot_score <= 89:\n",
    "        return '멋져요! 운동 자세가 상당히 훌륭합니다. 자세의 안정성과 균형을 유지하며, 기본적인 운동 동작을 정확하게 수행하고 있습니다.'\n",
    "    elif 65 <= tot_score <= 74:\n",
    "        return '잘 하셨어요! 운동 자세가 괜찮습니다. 기본적인 운동 동작을 어느 정도 정확하게 수행하고 있으며, 자세의 안정성도 일정 수준을 유지하고 있습니다. 조금 더 정확한 동작을 위해 세심한 주의가 필요합니다.'\n",
    "    elif 50 <= tot_score <= 64:\n",
    "        return '아쉬워요! 기본적인 운동 동작을 대체로 잘 수행하고 있지만, 몇몇 부분에서 개선이 필요합니다. 조금 더 정확하고 자세한 동작을 위해 주의와 연습이 더욱 필요합니다.'\n",
    "    else:\n",
    "        return '앗, 야생의 헬린이가 나타났다! 운동 자세가 아직 미흡한 부분이 많습니다. 자세의 안정성과 정확성을 향상시키기 위해 더 많은 연습과 주의가 필요합니다.'"
   ]
  },
  {
   "cell_type": "code",
   "execution_count": 26,
   "id": "65649908",
   "metadata": {},
   "outputs": [
    {
     "data": {
      "text/plain": [
       "'잘 하셨어요! 운동 자세가 괜찮습니다. 기본적인 운동 동작을 어느 정도 정확하게 수행하고 있으며, 자세의 안정성도 일정 수준을 유지하고 있습니다. 조금 더 정확한 동작을 위해 세심한 주의가 필요합니다.'"
      ]
     },
     "execution_count": 26,
     "metadata": {},
     "output_type": "execute_result"
    }
   ],
   "source": [
    "oneLineFeedback(66)"
   ]
  },
  {
   "cell_type": "code",
   "execution_count": 27,
   "id": "0ca5f35f",
   "metadata": {},
   "outputs": [],
   "source": [
    "score_original = ['0.049739926330922515',\n",
    " '0.07961403288227067,',\n",
    " '0.11726666240974239,',\n",
    " '0.08753686678974107,',\n",
    " '0.07388163598762684,']"
   ]
  },
  {
   "cell_type": "code",
   "execution_count": 28,
   "id": "5f4c5e99",
   "metadata": {},
   "outputs": [],
   "source": [
    "score_original = ['0.000861725359677880',\n",
    " '0.000712028704872278',\n",
    " '0.001091081371595408',\n",
    " '0.001611983767425861',\n",
    " '0.000843242250506719']"
   ]
  },
  {
   "cell_type": "code",
   "execution_count": 30,
   "id": "25bc5344",
   "metadata": {},
   "outputs": [
    {
     "name": "stdout",
     "output_type": "stream",
     "text": [
      "[99.13827464032212, 99.28797129512772, 98.90891862840459, 98.38801623257415, 99.15675774949328]\n",
      "\n",
      "total score = 98.0\n",
      "대단해요! 거의 트레이너 수준입니다! 운동 자세가 매우 정확하고 균형도 잘 잡혀 있습니다. 전문가 수준의 자세를 유지하고 있으며, 안정적이고 효과적인 운동을 하고 있습니다.\n"
     ]
    }
   ],
   "source": [
    "def convert_to_score(score):\n",
    "    score_clean = [float(s.strip().rstrip(',')) for s in score]\n",
    "    score_100 = []\n",
    "    for i in score_clean:\n",
    "        score_100.append(100 - i*1000)\n",
    "    return score_100\n",
    "\n",
    "convert_to_score(score_original)\n",
    "\n",
    "# score_100 = []\n",
    "\n",
    "# for i in score_clean:\n",
    "#     print(100 - i*1000)\n",
    "#     score_100.append(100 - i*1000)\n",
    "    \n",
    "print(convert_to_score(score_original))\n",
    "print(f'\\ntotal score = {sum(convert_to_score(score_original))//5}')\n",
    "print(oneLineFeedback(sum(convert_to_score(score_original))//5))"
   ]
  },
  {
   "cell_type": "code",
   "execution_count": 34,
   "id": "4a1e64df",
   "metadata": {},
   "outputs": [
    {
     "data": {
      "text/plain": [
       "(1, 3)"
      ]
     },
     "execution_count": 34,
     "metadata": {},
     "output_type": "execute_result"
    }
   ],
   "source": [
    "def find_min_max_index(lst):\n",
    "    min_value = min(lst)\n",
    "    max_value = max(lst)\n",
    "    min_index = lst.index(min_value)\n",
    "    max_index = lst.index(max_value)\n",
    "    return max_index, min_index\n",
    "\n",
    "find_min_max_index(convert_to_score(score_original))"
   ]
  },
  {
   "cell_type": "code",
   "execution_count": 35,
   "id": "1e983b75",
   "metadata": {},
   "outputs": [
    {
     "name": "stdout",
     "output_type": "stream",
     "text": [
      "Sleep 5 seconds from now on...\n",
      "wake up!\n"
     ]
    }
   ],
   "source": [
    "import time\n",
    "\n",
    "print (\"Sleep 5 seconds from now on...\")\n",
    "time.sleep(5)\n",
    "print(\"wake up!\")"
   ]
  },
  {
   "cell_type": "code",
   "execution_count": null,
   "id": "5bc1bcb3",
   "metadata": {},
   "outputs": [],
   "source": []
  }
 ],
 "metadata": {
  "kernelspec": {
   "display_name": "Python 3 (ipykernel)",
   "language": "python",
   "name": "python3"
  },
  "language_info": {
   "codemirror_mode": {
    "name": "ipython",
    "version": 3
   },
   "file_extension": ".py",
   "mimetype": "text/x-python",
   "name": "python",
   "nbconvert_exporter": "python",
   "pygments_lexer": "ipython3",
   "version": "3.10.10"
  }
 },
 "nbformat": 4,
 "nbformat_minor": 5
}
